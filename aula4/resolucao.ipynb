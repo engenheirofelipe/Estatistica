{
 "cells": [
  {
   "cell_type": "markdown",
   "metadata": {},
   "source": [
    "# Resolução do exercício 1\n",
    "\n",
    "   ### Na coluna \"OBRA A\" o tipo de dado é qualitativo nominal.\n",
    "   ### Na coluna \"CREATED\" o tipo de dado é quantitativo contínuo.\n",
    "   ### Na coluna \"DESCRICAO\" o tipo de dado é qualitativo nominal, pois trata-se de uma descrição e não envolve uma hierarquia.\n",
    "   ### Na coluna \"CLASSE_COMP\" o tipo de dado é qualitativo nominal.\n",
    "   ### Na coluna \"INSUMO_ATUAL\" o tipo de dado é qualitativo nominal.\n",
    "   ### Na coluna \"IP_D\" o tipo de dado é quantitativo contínuo, pois não trata-se de um número inteiro.\n",
    "   ### Na coluna \"UNIDADE\" o tipo de dado é quantitativo contpinuo pois \"H\" de horas pode assumir números decimais, como 3.30 horas.\n",
    "   ### Na coluna \"COEF_SIURB\" o tipo de dado é quantitativo discreto, pois trata-se de um número inteiro."
   ]
  },
  {
   "cell_type": "code",
   "execution_count": 3,
   "metadata": {},
   "outputs": [],
   "source": [
    "# import pandas as pd\n",
    "# df = pd.read_csv('dados_produtividade_construcao.csv')\n",
    "# df.head()"
   ]
  },
  {
   "cell_type": "markdown",
   "metadata": {},
   "source": [
    "# Resolução do exercício 2\n",
    "\n",
    "### Por que a obra B foi a que mais conseguiu produzir quantitades de metros quadrados em menor quantidade de tempo ?\n",
    "### Por que a obra A foi a que menos teve quantidade de apropriações ?\n",
    "### Por que a obra B é a que mais tem frequência de  dados no intervalo da moda ? "
   ]
  },
  {
   "cell_type": "markdown",
   "metadata": {},
   "source": [
    "# Resolução do exercício 3\n",
    "\n",
    "### Sim, há diferença de produtividade entre as obras. A obra mais produtiva é a obra B, pois na coluna da média é possível perceber que a obra b foi a que teve a menor média , justificando assim a menor quantidade de tempo para produzir 1 metro  quadrado. Enquanto isso, a obra menos produtiva foi a obra A, com  a maior média e consequentemente maior tempo gasto para produzir."
   ]
  },
  {
   "cell_type": "markdown",
   "metadata": {},
   "source": [
    "# Resolução do exercício 4\n",
    "\n",
    "### Sim, há diferença de produtividade  entre os blocos. O bloco mais produtivo é o de 9 CM , por ser o que menos usa recurso de material, além de ser o penúltimo bloco que apresenta uma das menores médias, ficando com 1.22 de média, perdendo apenas para o blocco de 14 cm com 1.02 de média. Porém o bloco de 14 centímetro utiliza mais recurso de material, sendo assim mais gasto do que utilizar 9 cm. Para finalizar o bloco de 9 CM tem menor mediana do que o de 14 CM.\n",
    "\n",
    "### O bloco de concreto aparente de 19 CM é o menos produtivo , por apresentar a maior média de tempo gasto para produzir 1 metro quadrado além de utilizar a maior quantidade de material."
   ]
  },
  {
   "cell_type": "markdown",
   "metadata": {},
   "source": [
    "# Resolução do exercício 5\n",
    "\n",
    "## A  média e mediana estavam muito próximas umas das outras."
   ]
  },
  {
   "cell_type": "markdown",
   "metadata": {},
   "source": [
    "# Resolução do exercício 6 \n",
    "\n",
    "## A caixa que apresenta maior largura, ou seja , mais dispersa é o bloco que é menos previsível por apresentar muita variabilidade dos dados, ficando \"menos concentrado\", que no caso é o bloco de concreto aparente 19 cm. Ao contrário de uma grande dispersão, o bloco concreto 19 CM é o mais estreito, sendo mais previsível."
   ]
  }
 ],
 "metadata": {
  "kernelspec": {
   "display_name": "Python 3",
   "language": "python",
   "name": "python3"
  },
  "language_info": {
   "codemirror_mode": {
    "name": "ipython",
    "version": 3
   },
   "file_extension": ".py",
   "mimetype": "text/x-python",
   "name": "python",
   "nbconvert_exporter": "python",
   "pygments_lexer": "ipython3",
   "version": "3.12.3"
  }
 },
 "nbformat": 4,
 "nbformat_minor": 2
}
